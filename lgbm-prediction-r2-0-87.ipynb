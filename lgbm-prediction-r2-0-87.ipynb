{
 "cells": [
  {
   "cell_type": "code",
   "execution_count": 1,
   "id": "eb896a8a",
   "metadata": {
    "_cell_guid": "b1076dfc-b9ad-4769-8c92-a6c4dae69d19",
    "_uuid": "8f2839f25d086af736a60e9eeb907d3b93b6e0e5",
    "execution": {
     "iopub.execute_input": "2022-07-31T10:26:07.322581Z",
     "iopub.status.busy": "2022-07-31T10:26:07.322146Z",
     "iopub.status.idle": "2022-07-31T10:26:09.814467Z",
     "shell.execute_reply": "2022-07-31T10:26:09.812897Z"
    },
    "papermill": {
     "duration": 2.509905,
     "end_time": "2022-07-31T10:26:09.817929",
     "exception": false,
     "start_time": "2022-07-31T10:26:07.308024",
     "status": "completed"
    },
    "tags": []
   },
   "outputs": [
    {
     "data": {
      "text/html": [
       "<style type='text/css'>\n",
       ".datatable table.frame { margin-bottom: 0; }\n",
       ".datatable table.frame thead { border-bottom: none; }\n",
       ".datatable table.frame tr.coltypes td {  color: #FFFFFF;  line-height: 6px;  padding: 0 0.5em;}\n",
       ".datatable .bool    { background: #DDDD99; }\n",
       ".datatable .object  { background: #565656; }\n",
       ".datatable .int     { background: #5D9E5D; }\n",
       ".datatable .float   { background: #4040CC; }\n",
       ".datatable .str     { background: #CC4040; }\n",
       ".datatable .time    { background: #40CC40; }\n",
       ".datatable .row_index {  background: var(--jp-border-color3);  border-right: 1px solid var(--jp-border-color0);  color: var(--jp-ui-font-color3);  font-size: 9px;}\n",
       ".datatable .frame tbody td { text-align: left; }\n",
       ".datatable .frame tr.coltypes .row_index {  background: var(--jp-border-color0);}\n",
       ".datatable th:nth-child(2) { padding-left: 12px; }\n",
       ".datatable .hellipsis {  color: var(--jp-cell-editor-border-color);}\n",
       ".datatable .vellipsis {  background: var(--jp-layout-color0);  color: var(--jp-cell-editor-border-color);}\n",
       ".datatable .na {  color: var(--jp-cell-editor-border-color);  font-size: 80%;}\n",
       ".datatable .sp {  opacity: 0.25;}\n",
       ".datatable .footer { font-size: 9px; }\n",
       ".datatable .frame_dimensions {  background: var(--jp-border-color3);  border-top: 1px solid var(--jp-border-color0);  color: var(--jp-ui-font-color3);  display: inline-block;  opacity: 0.6;  padding: 1px 10px 1px 5px;}\n",
       "</style>\n"
      ],
      "text/plain": [
       "<IPython.core.display.HTML object>"
      ]
     },
     "metadata": {},
     "output_type": "display_data"
    },
    {
     "name": "stdout",
     "output_type": "stream",
     "text": [
      "/kaggle/input/powerlifting-benchpress-weight-predict/y_test.csv\n",
      "/kaggle/input/powerlifting-benchpress-weight-predict/X_test.csv\n",
      "/kaggle/input/powerlifting-benchpress-weight-predict/y_train.csv\n",
      "/kaggle/input/powerlifting-benchpress-weight-predict/X_train.csv\n"
     ]
    }
   ],
   "source": [
    "# This Python 3 environment comes with many helpful analytics libraries installed\n",
    "# It is defined by the kaggle/python Docker image: https://github.com/kaggle/docker-python\n",
    "# For example, here's several helpful packages to load\n",
    "\n",
    "import numpy as np # linear algebra\n",
    "import pandas as pd # data processing, CSV file I/O (e.g. pd.read_csv)\n",
    "import matplotlib.pyplot as plt\n",
    "\n",
    "\n",
    "\n",
    "from sklearn.model_selection import cross_val_score\n",
    "from sklearn.model_selection import train_test_split\n",
    "from sklearn.linear_model import LinearRegression\n",
    "from sklearn.ensemble import RandomForestRegressor\n",
    "from sklearn.ensemble import GradientBoostingRegressor\n",
    "from lightgbm import LGBMRegressor\n",
    "\n",
    "# Input data files are available in the read-only \"../input/\" directory\n",
    "# For example, running this (by clicking run or pressing Shift+Enter) will list all files under the input directory\n",
    "\n",
    "import os\n",
    "for dirname, _, filenames in os.walk('/kaggle/input'):\n",
    "    for filename in filenames:\n",
    "        print(os.path.join(dirname, filename))\n",
    "\n",
    "# You can write up to 20GB to the current directory (/kaggle/working/) that gets preserved as output when you create a version using \"Save & Run All\" \n",
    "# You can also write temporary files to /kaggle/temp/, but they won't be saved outside of the current session"
   ]
  },
  {
   "cell_type": "markdown",
   "id": "14f3bc13",
   "metadata": {
    "papermill": {
     "duration": 0.011216,
     "end_time": "2022-07-31T10:26:09.841658",
     "exception": false,
     "start_time": "2022-07-31T10:26:09.830442",
     "status": "completed"
    },
    "tags": []
   },
   "source": [
    "# Table of Contents\n",
    "* [Powerlifting Dataset](#intro)\n",
    "\n",
    "* [Data Loading and Exploration](#loading)\n",
    "\n",
    "* [Training](#training)\n",
    "\n",
    "    - [Split](#split)\n",
    "    \n",
    "    - [Cross Validation](#cross_val)\n",
    "    \n",
    "    - [R2 Score](#r2)\n",
    "     "
   ]
  },
  {
   "cell_type": "markdown",
   "id": "99db18ee",
   "metadata": {
    "papermill": {
     "duration": 0.011,
     "end_time": "2022-07-31T10:26:09.864061",
     "exception": false,
     "start_time": "2022-07-31T10:26:09.853061",
     "status": "completed"
    },
    "tags": []
   },
   "source": [
    "<a id = \"intro\" ></a>\n",
    "# Powerlifting Dataset"
   ]
  },
  {
   "cell_type": "markdown",
   "id": "e53e9118",
   "metadata": {
    "papermill": {
     "duration": 0.011286,
     "end_time": "2022-07-31T10:26:09.886704",
     "exception": false,
     "start_time": "2022-07-31T10:26:09.875418",
     "status": "completed"
    },
    "tags": []
   },
   "source": [
    "**Here we have a dataset that contains the Bench Press PB as well as other type of data for multiple individual.**\n",
    "\n",
    "**The task is to predict what someone's best bench press weight will be.**\n",
    "\n",
    "**This is a regression problem.**"
   ]
  },
  {
   "cell_type": "code",
   "execution_count": 2,
   "id": "0d80ba86",
   "metadata": {
    "execution": {
     "iopub.execute_input": "2022-07-31T10:26:09.911538Z",
     "iopub.status.busy": "2022-07-31T10:26:09.911141Z",
     "iopub.status.idle": "2022-07-31T10:26:09.928512Z",
     "shell.execute_reply": "2022-07-31T10:26:09.927673Z"
    },
    "papermill": {
     "duration": 0.032923,
     "end_time": "2022-07-31T10:26:09.931258",
     "exception": false,
     "start_time": "2022-07-31T10:26:09.898335",
     "status": "completed"
    },
    "tags": []
   },
   "outputs": [],
   "source": [
    " %config Completer.use_jedi = False\n"
   ]
  },
  {
   "cell_type": "markdown",
   "id": "7667ca80",
   "metadata": {
    "papermill": {
     "duration": 0.011059,
     "end_time": "2022-07-31T10:26:09.953808",
     "exception": false,
     "start_time": "2022-07-31T10:26:09.942749",
     "status": "completed"
    },
    "tags": []
   },
   "source": [
    "<a id=\"loading\"></a>\n",
    "# Data Loading and Exploration"
   ]
  },
  {
   "cell_type": "code",
   "execution_count": 3,
   "id": "2b0bcfc6",
   "metadata": {
    "execution": {
     "iopub.execute_input": "2022-07-31T10:26:09.978852Z",
     "iopub.status.busy": "2022-07-31T10:26:09.978031Z",
     "iopub.status.idle": "2022-07-31T10:26:10.095291Z",
     "shell.execute_reply": "2022-07-31T10:26:10.094111Z"
    },
    "papermill": {
     "duration": 0.132832,
     "end_time": "2022-07-31T10:26:10.098046",
     "exception": false,
     "start_time": "2022-07-31T10:26:09.965214",
     "status": "completed"
    },
    "tags": []
   },
   "outputs": [],
   "source": [
    "y_test = pd.read_csv('/kaggle/input/powerlifting-benchpress-weight-predict/y_test.csv')\n",
    "X_test = pd.read_csv('/kaggle/input/powerlifting-benchpress-weight-predict/X_test.csv')\n",
    "y_train = pd.read_csv('/kaggle/input/powerlifting-benchpress-weight-predict/y_train.csv')\n",
    "X_train = pd.read_csv('/kaggle/input/powerlifting-benchpress-weight-predict/X_train.csv')"
   ]
  },
  {
   "cell_type": "code",
   "execution_count": 4,
   "id": "3529d958",
   "metadata": {
    "execution": {
     "iopub.execute_input": "2022-07-31T10:26:10.124131Z",
     "iopub.status.busy": "2022-07-31T10:26:10.123399Z",
     "iopub.status.idle": "2022-07-31T10:26:10.144318Z",
     "shell.execute_reply": "2022-07-31T10:26:10.143488Z"
    },
    "papermill": {
     "duration": 0.036019,
     "end_time": "2022-07-31T10:26:10.146564",
     "exception": false,
     "start_time": "2022-07-31T10:26:10.110545",
     "status": "completed"
    },
    "tags": []
   },
   "outputs": [
    {
     "data": {
      "text/html": [
       "<div>\n",
       "<style scoped>\n",
       "    .dataframe tbody tr th:only-of-type {\n",
       "        vertical-align: middle;\n",
       "    }\n",
       "\n",
       "    .dataframe tbody tr th {\n",
       "        vertical-align: top;\n",
       "    }\n",
       "\n",
       "    .dataframe thead th {\n",
       "        text-align: right;\n",
       "    }\n",
       "</style>\n",
       "<table border=\"1\" class=\"dataframe\">\n",
       "  <thead>\n",
       "    <tr style=\"text-align: right;\">\n",
       "      <th></th>\n",
       "      <th>playerId</th>\n",
       "      <th>BestBenchKg</th>\n",
       "      <th>Age</th>\n",
       "      <th>BodyweightKg</th>\n",
       "      <th>BestDeadliftKg</th>\n",
       "    </tr>\n",
       "  </thead>\n",
       "  <tbody>\n",
       "    <tr>\n",
       "      <th>0</th>\n",
       "      <td>2308.0</td>\n",
       "      <td>97.52</td>\n",
       "      <td>NaN</td>\n",
       "      <td>NaN</td>\n",
       "      <td>NaN</td>\n",
       "    </tr>\n",
       "    <tr>\n",
       "      <th>1</th>\n",
       "      <td>22404.0</td>\n",
       "      <td>75.00</td>\n",
       "      <td>NaN</td>\n",
       "      <td>NaN</td>\n",
       "      <td>NaN</td>\n",
       "    </tr>\n",
       "    <tr>\n",
       "      <th>2</th>\n",
       "      <td>23397.0</td>\n",
       "      <td>190.00</td>\n",
       "      <td>NaN</td>\n",
       "      <td>NaN</td>\n",
       "      <td>NaN</td>\n",
       "    </tr>\n",
       "    <tr>\n",
       "      <th>3</th>\n",
       "      <td>25058.0</td>\n",
       "      <td>117.50</td>\n",
       "      <td>NaN</td>\n",
       "      <td>NaN</td>\n",
       "      <td>NaN</td>\n",
       "    </tr>\n",
       "    <tr>\n",
       "      <th>4</th>\n",
       "      <td>2664.0</td>\n",
       "      <td>145.01</td>\n",
       "      <td>NaN</td>\n",
       "      <td>NaN</td>\n",
       "      <td>NaN</td>\n",
       "    </tr>\n",
       "  </tbody>\n",
       "</table>\n",
       "</div>"
      ],
      "text/plain": [
       "   playerId  BestBenchKg  Age  BodyweightKg  BestDeadliftKg\n",
       "0    2308.0        97.52  NaN           NaN             NaN\n",
       "1   22404.0        75.00  NaN           NaN             NaN\n",
       "2   23397.0       190.00  NaN           NaN             NaN\n",
       "3   25058.0       117.50  NaN           NaN             NaN\n",
       "4    2664.0       145.01  NaN           NaN             NaN"
      ]
     },
     "execution_count": 4,
     "metadata": {},
     "output_type": "execute_result"
    }
   ],
   "source": [
    "y_test.head()\n"
   ]
  },
  {
   "cell_type": "code",
   "execution_count": 5,
   "id": "09799168",
   "metadata": {
    "execution": {
     "iopub.execute_input": "2022-07-31T10:26:10.171880Z",
     "iopub.status.busy": "2022-07-31T10:26:10.171145Z",
     "iopub.status.idle": "2022-07-31T10:26:10.187965Z",
     "shell.execute_reply": "2022-07-31T10:26:10.187121Z"
    },
    "papermill": {
     "duration": 0.032205,
     "end_time": "2022-07-31T10:26:10.190382",
     "exception": false,
     "start_time": "2022-07-31T10:26:10.158177",
     "status": "completed"
    },
    "tags": []
   },
   "outputs": [
    {
     "data": {
      "text/html": [
       "<div>\n",
       "<style scoped>\n",
       "    .dataframe tbody tr th:only-of-type {\n",
       "        vertical-align: middle;\n",
       "    }\n",
       "\n",
       "    .dataframe tbody tr th {\n",
       "        vertical-align: top;\n",
       "    }\n",
       "\n",
       "    .dataframe thead th {\n",
       "        text-align: right;\n",
       "    }\n",
       "</style>\n",
       "<table border=\"1\" class=\"dataframe\">\n",
       "  <thead>\n",
       "    <tr style=\"text-align: right;\">\n",
       "      <th></th>\n",
       "      <th>playerId</th>\n",
       "      <th>Name</th>\n",
       "      <th>Sex</th>\n",
       "      <th>Equipment</th>\n",
       "      <th>Age</th>\n",
       "      <th>BodyweightKg</th>\n",
       "      <th>BestSquatKg</th>\n",
       "      <th>BestDeadliftKg</th>\n",
       "    </tr>\n",
       "  </thead>\n",
       "  <tbody>\n",
       "    <tr>\n",
       "      <th>0</th>\n",
       "      <td>2308.0</td>\n",
       "      <td>Peter Neeves</td>\n",
       "      <td>M</td>\n",
       "      <td>Wraps</td>\n",
       "      <td>30.0</td>\n",
       "      <td>89.81</td>\n",
       "      <td>179.17</td>\n",
       "      <td>192.78</td>\n",
       "    </tr>\n",
       "    <tr>\n",
       "      <th>1</th>\n",
       "      <td>22404.0</td>\n",
       "      <td>Josh Padilla</td>\n",
       "      <td>M</td>\n",
       "      <td>Raw</td>\n",
       "      <td>27.0</td>\n",
       "      <td>74.95</td>\n",
       "      <td>125.00</td>\n",
       "      <td>165.00</td>\n",
       "    </tr>\n",
       "    <tr>\n",
       "      <th>2</th>\n",
       "      <td>23397.0</td>\n",
       "      <td>Luke Dreier</td>\n",
       "      <td>M</td>\n",
       "      <td>Wraps</td>\n",
       "      <td>30.0</td>\n",
       "      <td>122.61</td>\n",
       "      <td>290.00</td>\n",
       "      <td>317.50</td>\n",
       "    </tr>\n",
       "    <tr>\n",
       "      <th>3</th>\n",
       "      <td>25058.0</td>\n",
       "      <td>Jacob New</td>\n",
       "      <td>M</td>\n",
       "      <td>Raw</td>\n",
       "      <td>20.0</td>\n",
       "      <td>88.00</td>\n",
       "      <td>187.50</td>\n",
       "      <td>240.00</td>\n",
       "    </tr>\n",
       "    <tr>\n",
       "      <th>4</th>\n",
       "      <td>2664.0</td>\n",
       "      <td>Jesse Burdick</td>\n",
       "      <td>M</td>\n",
       "      <td>Wraps</td>\n",
       "      <td>30.0</td>\n",
       "      <td>122.00</td>\n",
       "      <td>235.01</td>\n",
       "      <td>275.01</td>\n",
       "    </tr>\n",
       "  </tbody>\n",
       "</table>\n",
       "</div>"
      ],
      "text/plain": [
       "   playerId           Name Sex Equipment   Age  BodyweightKg  BestSquatKg  \\\n",
       "0    2308.0   Peter Neeves   M     Wraps  30.0         89.81       179.17   \n",
       "1   22404.0   Josh Padilla   M       Raw  27.0         74.95       125.00   \n",
       "2   23397.0    Luke Dreier   M     Wraps  30.0        122.61       290.00   \n",
       "3   25058.0      Jacob New   M       Raw  20.0         88.00       187.50   \n",
       "4    2664.0  Jesse Burdick   M     Wraps  30.0        122.00       235.01   \n",
       "\n",
       "   BestDeadliftKg  \n",
       "0          192.78  \n",
       "1          165.00  \n",
       "2          317.50  \n",
       "3          240.00  \n",
       "4          275.01  "
      ]
     },
     "execution_count": 5,
     "metadata": {},
     "output_type": "execute_result"
    }
   ],
   "source": [
    "X_test.head()\n"
   ]
  },
  {
   "cell_type": "code",
   "execution_count": 6,
   "id": "ee8d5e90",
   "metadata": {
    "execution": {
     "iopub.execute_input": "2022-07-31T10:26:10.216616Z",
     "iopub.status.busy": "2022-07-31T10:26:10.215988Z",
     "iopub.status.idle": "2022-07-31T10:26:10.226991Z",
     "shell.execute_reply": "2022-07-31T10:26:10.225939Z"
    },
    "papermill": {
     "duration": 0.027295,
     "end_time": "2022-07-31T10:26:10.229806",
     "exception": false,
     "start_time": "2022-07-31T10:26:10.202511",
     "status": "completed"
    },
    "tags": []
   },
   "outputs": [
    {
     "data": {
      "text/html": [
       "<div>\n",
       "<style scoped>\n",
       "    .dataframe tbody tr th:only-of-type {\n",
       "        vertical-align: middle;\n",
       "    }\n",
       "\n",
       "    .dataframe tbody tr th {\n",
       "        vertical-align: top;\n",
       "    }\n",
       "\n",
       "    .dataframe thead th {\n",
       "        text-align: right;\n",
       "    }\n",
       "</style>\n",
       "<table border=\"1\" class=\"dataframe\">\n",
       "  <thead>\n",
       "    <tr style=\"text-align: right;\">\n",
       "      <th></th>\n",
       "      <th>playerId</th>\n",
       "      <th>BestBenchKg</th>\n",
       "    </tr>\n",
       "  </thead>\n",
       "  <tbody>\n",
       "    <tr>\n",
       "      <th>0</th>\n",
       "      <td>19391.0</td>\n",
       "      <td>125.0</td>\n",
       "    </tr>\n",
       "    <tr>\n",
       "      <th>1</th>\n",
       "      <td>15978.0</td>\n",
       "      <td>157.5</td>\n",
       "    </tr>\n",
       "    <tr>\n",
       "      <th>2</th>\n",
       "      <td>27209.0</td>\n",
       "      <td>145.0</td>\n",
       "    </tr>\n",
       "    <tr>\n",
       "      <th>3</th>\n",
       "      <td>27496.0</td>\n",
       "      <td>60.0</td>\n",
       "    </tr>\n",
       "    <tr>\n",
       "      <th>4</th>\n",
       "      <td>20293.0</td>\n",
       "      <td>60.0</td>\n",
       "    </tr>\n",
       "  </tbody>\n",
       "</table>\n",
       "</div>"
      ],
      "text/plain": [
       "   playerId  BestBenchKg\n",
       "0   19391.0        125.0\n",
       "1   15978.0        157.5\n",
       "2   27209.0        145.0\n",
       "3   27496.0         60.0\n",
       "4   20293.0         60.0"
      ]
     },
     "execution_count": 6,
     "metadata": {},
     "output_type": "execute_result"
    }
   ],
   "source": [
    "y_train.head()\n"
   ]
  },
  {
   "cell_type": "code",
   "execution_count": 7,
   "id": "e617caaa",
   "metadata": {
    "execution": {
     "iopub.execute_input": "2022-07-31T10:26:10.256037Z",
     "iopub.status.busy": "2022-07-31T10:26:10.255654Z",
     "iopub.status.idle": "2022-07-31T10:26:10.273225Z",
     "shell.execute_reply": "2022-07-31T10:26:10.272025Z"
    },
    "papermill": {
     "duration": 0.033587,
     "end_time": "2022-07-31T10:26:10.275733",
     "exception": false,
     "start_time": "2022-07-31T10:26:10.242146",
     "status": "completed"
    },
    "tags": []
   },
   "outputs": [
    {
     "data": {
      "text/html": [
       "<div>\n",
       "<style scoped>\n",
       "    .dataframe tbody tr th:only-of-type {\n",
       "        vertical-align: middle;\n",
       "    }\n",
       "\n",
       "    .dataframe tbody tr th {\n",
       "        vertical-align: top;\n",
       "    }\n",
       "\n",
       "    .dataframe thead th {\n",
       "        text-align: right;\n",
       "    }\n",
       "</style>\n",
       "<table border=\"1\" class=\"dataframe\">\n",
       "  <thead>\n",
       "    <tr style=\"text-align: right;\">\n",
       "      <th></th>\n",
       "      <th>playerId</th>\n",
       "      <th>Name</th>\n",
       "      <th>Sex</th>\n",
       "      <th>Equipment</th>\n",
       "      <th>Age</th>\n",
       "      <th>BodyweightKg</th>\n",
       "      <th>BestSquatKg</th>\n",
       "      <th>BestDeadliftKg</th>\n",
       "    </tr>\n",
       "  </thead>\n",
       "  <tbody>\n",
       "    <tr>\n",
       "      <th>0</th>\n",
       "      <td>19391.0</td>\n",
       "      <td>Carlos Ceron</td>\n",
       "      <td>M</td>\n",
       "      <td>Raw</td>\n",
       "      <td>23.0</td>\n",
       "      <td>87.30</td>\n",
       "      <td>205.0</td>\n",
       "      <td>235.0</td>\n",
       "    </tr>\n",
       "    <tr>\n",
       "      <th>1</th>\n",
       "      <td>15978.0</td>\n",
       "      <td>Tito Herrera</td>\n",
       "      <td>M</td>\n",
       "      <td>Wraps</td>\n",
       "      <td>23.0</td>\n",
       "      <td>73.48</td>\n",
       "      <td>220.0</td>\n",
       "      <td>260.0</td>\n",
       "    </tr>\n",
       "    <tr>\n",
       "      <th>2</th>\n",
       "      <td>27209.0</td>\n",
       "      <td>Levi Lehman</td>\n",
       "      <td>M</td>\n",
       "      <td>Raw</td>\n",
       "      <td>26.0</td>\n",
       "      <td>112.40</td>\n",
       "      <td>142.5</td>\n",
       "      <td>220.0</td>\n",
       "    </tr>\n",
       "    <tr>\n",
       "      <th>3</th>\n",
       "      <td>27496.0</td>\n",
       "      <td>Stacy Hayford</td>\n",
       "      <td>F</td>\n",
       "      <td>Raw</td>\n",
       "      <td>35.0</td>\n",
       "      <td>59.42</td>\n",
       "      <td>95.0</td>\n",
       "      <td>102.5</td>\n",
       "    </tr>\n",
       "    <tr>\n",
       "      <th>4</th>\n",
       "      <td>20293.0</td>\n",
       "      <td>Brittany Hirt</td>\n",
       "      <td>F</td>\n",
       "      <td>Raw</td>\n",
       "      <td>26.5</td>\n",
       "      <td>61.40</td>\n",
       "      <td>105.0</td>\n",
       "      <td>127.5</td>\n",
       "    </tr>\n",
       "  </tbody>\n",
       "</table>\n",
       "</div>"
      ],
      "text/plain": [
       "   playerId           Name Sex Equipment   Age  BodyweightKg BestSquatKg  \\\n",
       "0   19391.0   Carlos Ceron   M       Raw  23.0         87.30       205.0   \n",
       "1   15978.0   Tito Herrera   M     Wraps  23.0         73.48       220.0   \n",
       "2   27209.0    Levi Lehman   M       Raw  26.0        112.40       142.5   \n",
       "3   27496.0  Stacy Hayford   F       Raw  35.0         59.42        95.0   \n",
       "4   20293.0  Brittany Hirt   F       Raw  26.5         61.40       105.0   \n",
       "\n",
       "   BestDeadliftKg  \n",
       "0           235.0  \n",
       "1           260.0  \n",
       "2           220.0  \n",
       "3           102.5  \n",
       "4           127.5  "
      ]
     },
     "execution_count": 7,
     "metadata": {},
     "output_type": "execute_result"
    }
   ],
   "source": [
    "\n",
    "\n",
    "X_train.head()"
   ]
  },
  {
   "cell_type": "markdown",
   "id": "359c3588",
   "metadata": {
    "papermill": {
     "duration": 0.012155,
     "end_time": "2022-07-31T10:26:10.300577",
     "exception": false,
     "start_time": "2022-07-31T10:26:10.288422",
     "status": "completed"
    },
    "tags": []
   },
   "source": [
    "**We can see that we have several categorical features : \"Sex\" and \"Equipement\"**"
   ]
  },
  {
   "cell_type": "code",
   "execution_count": 8,
   "id": "4869c420",
   "metadata": {
    "execution": {
     "iopub.execute_input": "2022-07-31T10:26:10.327708Z",
     "iopub.status.busy": "2022-07-31T10:26:10.326716Z",
     "iopub.status.idle": "2022-07-31T10:26:10.352746Z",
     "shell.execute_reply": "2022-07-31T10:26:10.351487Z"
    },
    "papermill": {
     "duration": 0.042661,
     "end_time": "2022-07-31T10:26:10.355641",
     "exception": false,
     "start_time": "2022-07-31T10:26:10.312980",
     "status": "completed"
    },
    "tags": []
   },
   "outputs": [],
   "source": [
    "y_test = y_test.set_index('playerId')\n",
    "X_test = X_test.set_index('playerId')\n",
    "y_train = y_train.set_index('playerId')\n",
    "X_train = X_train.set_index('playerId')\n",
    "\n",
    "y_test = y_test.drop(['Age','BodyweightKg', 'BestDeadliftKg'], axis= 1)\n",
    "\n",
    "X_test = X_test.drop(['Name'], axis= 1)\n",
    "X_train = X_train.drop(['Name'], axis= 1)\n"
   ]
  },
  {
   "cell_type": "code",
   "execution_count": 9,
   "id": "489fece0",
   "metadata": {
    "execution": {
     "iopub.execute_input": "2022-07-31T10:26:10.382435Z",
     "iopub.status.busy": "2022-07-31T10:26:10.382042Z",
     "iopub.status.idle": "2022-07-31T10:26:10.392486Z",
     "shell.execute_reply": "2022-07-31T10:26:10.391684Z"
    },
    "papermill": {
     "duration": 0.026952,
     "end_time": "2022-07-31T10:26:10.395188",
     "exception": false,
     "start_time": "2022-07-31T10:26:10.368236",
     "status": "completed"
    },
    "tags": []
   },
   "outputs": [],
   "source": [
    "X = pd.concat([X_train,X_test])\n",
    "y = pd.concat([y_train,y_test])"
   ]
  },
  {
   "cell_type": "code",
   "execution_count": 10,
   "id": "1670eb5d",
   "metadata": {
    "execution": {
     "iopub.execute_input": "2022-07-31T10:26:10.422546Z",
     "iopub.status.busy": "2022-07-31T10:26:10.422133Z",
     "iopub.status.idle": "2022-07-31T10:26:10.442439Z",
     "shell.execute_reply": "2022-07-31T10:26:10.441407Z"
    },
    "papermill": {
     "duration": 0.036608,
     "end_time": "2022-07-31T10:26:10.444906",
     "exception": false,
     "start_time": "2022-07-31T10:26:10.408298",
     "status": "completed"
    },
    "tags": []
   },
   "outputs": [
    {
     "data": {
      "text/plain": [
       "Sex                 0\n",
       "Equipment           0\n",
       "Age               420\n",
       "BodyweightKg        0\n",
       "BestSquatKg         0\n",
       "BestDeadliftKg      0\n",
       "dtype: int64"
      ]
     },
     "execution_count": 10,
     "metadata": {},
     "output_type": "execute_result"
    }
   ],
   "source": [
    "X.isna().sum()"
   ]
  },
  {
   "cell_type": "code",
   "execution_count": 11,
   "id": "9f016143",
   "metadata": {
    "execution": {
     "iopub.execute_input": "2022-07-31T10:26:10.472844Z",
     "iopub.status.busy": "2022-07-31T10:26:10.471862Z",
     "iopub.status.idle": "2022-07-31T10:26:10.481821Z",
     "shell.execute_reply": "2022-07-31T10:26:10.480712Z"
    },
    "papermill": {
     "duration": 0.026683,
     "end_time": "2022-07-31T10:26:10.484260",
     "exception": false,
     "start_time": "2022-07-31T10:26:10.457577",
     "status": "completed"
    },
    "tags": []
   },
   "outputs": [
    {
     "data": {
      "text/plain": [
       "BestBenchKg    0\n",
       "dtype: int64"
      ]
     },
     "execution_count": 11,
     "metadata": {},
     "output_type": "execute_result"
    }
   ],
   "source": [
    "y.isna().sum()"
   ]
  },
  {
   "cell_type": "markdown",
   "id": "aafaadac",
   "metadata": {
    "papermill": {
     "duration": 0.012387,
     "end_time": "2022-07-31T10:26:10.509527",
     "exception": false,
     "start_time": "2022-07-31T10:26:10.497140",
     "status": "completed"
    },
    "tags": []
   },
   "source": [
    "**There are missing values in the Age columnn, we will have to decide what strategy to use so that our prediction is accurate**"
   ]
  },
  {
   "cell_type": "markdown",
   "id": "b41f77d3",
   "metadata": {
    "papermill": {
     "duration": 0.012332,
     "end_time": "2022-07-31T10:26:10.534669",
     "exception": false,
     "start_time": "2022-07-31T10:26:10.522337",
     "status": "completed"
    },
    "tags": []
   },
   "source": [
    "**Some statistics :**"
   ]
  },
  {
   "cell_type": "code",
   "execution_count": 12,
   "id": "b4e32db4",
   "metadata": {
    "execution": {
     "iopub.execute_input": "2022-07-31T10:26:10.561841Z",
     "iopub.status.busy": "2022-07-31T10:26:10.561403Z",
     "iopub.status.idle": "2022-07-31T10:26:10.594569Z",
     "shell.execute_reply": "2022-07-31T10:26:10.593784Z"
    },
    "papermill": {
     "duration": 0.049484,
     "end_time": "2022-07-31T10:26:10.596875",
     "exception": false,
     "start_time": "2022-07-31T10:26:10.547391",
     "status": "completed"
    },
    "tags": []
   },
   "outputs": [
    {
     "data": {
      "text/html": [
       "<div>\n",
       "<style scoped>\n",
       "    .dataframe tbody tr th:only-of-type {\n",
       "        vertical-align: middle;\n",
       "    }\n",
       "\n",
       "    .dataframe tbody tr th {\n",
       "        vertical-align: top;\n",
       "    }\n",
       "\n",
       "    .dataframe thead th {\n",
       "        text-align: right;\n",
       "    }\n",
       "</style>\n",
       "<table border=\"1\" class=\"dataframe\">\n",
       "  <thead>\n",
       "    <tr style=\"text-align: right;\">\n",
       "      <th></th>\n",
       "      <th>Age</th>\n",
       "      <th>BodyweightKg</th>\n",
       "      <th>BestDeadliftKg</th>\n",
       "    </tr>\n",
       "  </thead>\n",
       "  <tbody>\n",
       "    <tr>\n",
       "      <th>count</th>\n",
       "      <td>29580.000000</td>\n",
       "      <td>30000.000000</td>\n",
       "      <td>30000.000000</td>\n",
       "    </tr>\n",
       "    <tr>\n",
       "      <th>mean</th>\n",
       "      <td>29.678786</td>\n",
       "      <td>85.359097</td>\n",
       "      <td>201.114296</td>\n",
       "    </tr>\n",
       "    <tr>\n",
       "      <th>std</th>\n",
       "      <td>11.576102</td>\n",
       "      <td>22.881926</td>\n",
       "      <td>62.369995</td>\n",
       "    </tr>\n",
       "    <tr>\n",
       "      <th>min</th>\n",
       "      <td>7.000000</td>\n",
       "      <td>24.100000</td>\n",
       "      <td>18.100000</td>\n",
       "    </tr>\n",
       "    <tr>\n",
       "      <th>25%</th>\n",
       "      <td>21.500000</td>\n",
       "      <td>68.050000</td>\n",
       "      <td>147.500000</td>\n",
       "    </tr>\n",
       "    <tr>\n",
       "      <th>50%</th>\n",
       "      <td>26.500000</td>\n",
       "      <td>82.100000</td>\n",
       "      <td>204.120000</td>\n",
       "    </tr>\n",
       "    <tr>\n",
       "      <th>75%</th>\n",
       "      <td>35.000000</td>\n",
       "      <td>98.880000</td>\n",
       "      <td>247.500000</td>\n",
       "    </tr>\n",
       "    <tr>\n",
       "      <th>max</th>\n",
       "      <td>89.500000</td>\n",
       "      <td>242.400000</td>\n",
       "      <td>420.500000</td>\n",
       "    </tr>\n",
       "  </tbody>\n",
       "</table>\n",
       "</div>"
      ],
      "text/plain": [
       "                Age  BodyweightKg  BestDeadliftKg\n",
       "count  29580.000000  30000.000000    30000.000000\n",
       "mean      29.678786     85.359097      201.114296\n",
       "std       11.576102     22.881926       62.369995\n",
       "min        7.000000     24.100000       18.100000\n",
       "25%       21.500000     68.050000      147.500000\n",
       "50%       26.500000     82.100000      204.120000\n",
       "75%       35.000000     98.880000      247.500000\n",
       "max       89.500000    242.400000      420.500000"
      ]
     },
     "execution_count": 12,
     "metadata": {},
     "output_type": "execute_result"
    }
   ],
   "source": [
    "X.describe()"
   ]
  },
  {
   "cell_type": "code",
   "execution_count": 13,
   "id": "67df6f05",
   "metadata": {
    "execution": {
     "iopub.execute_input": "2022-07-31T10:26:10.624782Z",
     "iopub.status.busy": "2022-07-31T10:26:10.624329Z",
     "iopub.status.idle": "2022-07-31T10:26:10.640531Z",
     "shell.execute_reply": "2022-07-31T10:26:10.639714Z"
    },
    "papermill": {
     "duration": 0.033439,
     "end_time": "2022-07-31T10:26:10.643313",
     "exception": false,
     "start_time": "2022-07-31T10:26:10.609874",
     "status": "completed"
    },
    "tags": []
   },
   "outputs": [
    {
     "data": {
      "text/html": [
       "<div>\n",
       "<style scoped>\n",
       "    .dataframe tbody tr th:only-of-type {\n",
       "        vertical-align: middle;\n",
       "    }\n",
       "\n",
       "    .dataframe tbody tr th {\n",
       "        vertical-align: top;\n",
       "    }\n",
       "\n",
       "    .dataframe thead th {\n",
       "        text-align: right;\n",
       "    }\n",
       "</style>\n",
       "<table border=\"1\" class=\"dataframe\">\n",
       "  <thead>\n",
       "    <tr style=\"text-align: right;\">\n",
       "      <th></th>\n",
       "      <th>BestBenchKg</th>\n",
       "    </tr>\n",
       "  </thead>\n",
       "  <tbody>\n",
       "    <tr>\n",
       "      <th>count</th>\n",
       "      <td>30000.000000</td>\n",
       "    </tr>\n",
       "    <tr>\n",
       "      <th>mean</th>\n",
       "      <td>116.507738</td>\n",
       "    </tr>\n",
       "    <tr>\n",
       "      <th>std</th>\n",
       "      <td>52.355810</td>\n",
       "    </tr>\n",
       "    <tr>\n",
       "      <th>min</th>\n",
       "      <td>-280.000000</td>\n",
       "    </tr>\n",
       "    <tr>\n",
       "      <th>25%</th>\n",
       "      <td>72.500000</td>\n",
       "    </tr>\n",
       "    <tr>\n",
       "      <th>50%</th>\n",
       "      <td>115.000000</td>\n",
       "    </tr>\n",
       "    <tr>\n",
       "      <th>75%</th>\n",
       "      <td>150.000000</td>\n",
       "    </tr>\n",
       "    <tr>\n",
       "      <th>max</th>\n",
       "      <td>425.000000</td>\n",
       "    </tr>\n",
       "  </tbody>\n",
       "</table>\n",
       "</div>"
      ],
      "text/plain": [
       "        BestBenchKg\n",
       "count  30000.000000\n",
       "mean     116.507738\n",
       "std       52.355810\n",
       "min     -280.000000\n",
       "25%       72.500000\n",
       "50%      115.000000\n",
       "75%      150.000000\n",
       "max      425.000000"
      ]
     },
     "execution_count": 13,
     "metadata": {},
     "output_type": "execute_result"
    }
   ],
   "source": [
    "y.describe()"
   ]
  },
  {
   "cell_type": "code",
   "execution_count": 14,
   "id": "4346120e",
   "metadata": {
    "execution": {
     "iopub.execute_input": "2022-07-31T10:26:10.672278Z",
     "iopub.status.busy": "2022-07-31T10:26:10.671201Z",
     "iopub.status.idle": "2022-07-31T10:26:10.685895Z",
     "shell.execute_reply": "2022-07-31T10:26:10.684948Z"
    },
    "papermill": {
     "duration": 0.033032,
     "end_time": "2022-07-31T10:26:10.689801",
     "exception": false,
     "start_time": "2022-07-31T10:26:10.656769",
     "status": "completed"
    },
    "tags": []
   },
   "outputs": [
    {
     "name": "stdout",
     "output_type": "stream",
     "text": [
      "          BestBenchKg\n",
      "playerId             \n",
      "13064.0       -142.50\n",
      "26847.0       -227.50\n",
      "16497.0       -145.00\n",
      "16983.0       -150.00\n",
      "24191.0       -110.00\n",
      "25046.0        -55.00\n",
      "21040.0       -132.50\n",
      "17714.0       -160.00\n",
      "4867.0        -107.50\n",
      "25982.0        -87.50\n",
      "13522.0        -55.00\n",
      "11150.0       -125.00\n",
      "3222.0         -77.50\n",
      "8889.0         -60.00\n",
      "16556.0        -47.50\n",
      "9266.0         -50.00\n",
      "4749.0        -135.00\n",
      "24470.0       -140.00\n",
      "14724.0        -77.50\n",
      "11400.0        -55.00\n",
      "18065.0       -115.00\n",
      "10229.0        -83.91\n",
      "18353.0        -80.00\n",
      "22670.0       -215.00\n",
      "5035.0        -130.00\n",
      "25322.0       -137.50\n",
      "14066.0       -147.50\n",
      "1371.0        -280.00\n",
      "9542.0         -70.00\n",
      "23831.0       -150.00\n",
      "28183.0       -187.50\n",
      "17083.0        -57.50\n",
      "22023.0       -112.50\n",
      "12291.0       -137.50\n",
      "18488.0        -47.50\n",
      "26080.0        -55.00\n",
      "22820.0        -60.00\n",
      "7168.0         -62.50\n",
      "23632.0       -237.50\n",
      "22017.0       -172.50\n",
      "8993.0         -45.00\n",
      "23368.0       -150.00\n",
      "2879.0        -150.00\n",
      "17992.0        -72.50\n",
      "14981.0       -102.50\n",
      "7075.0        -127.50\n",
      "18154.0       -145.00\n",
      "23919.0       -165.00\n",
      "16844.0        -60.00\n",
      "13090.0        -45.00\n",
      "707.0          -65.00\n",
      "19084.0       -142.50\n",
      "29901.0        -90.00\n",
      "15394.0       -152.50\n",
      "8764.0         -87.50\n",
      "1219.0        -150.00\n",
      "26162.0        -80.00\n",
      "21351.0       -240.00\n"
     ]
    }
   ],
   "source": [
    "print(y.loc[y['BestBenchKg']<0])"
   ]
  },
  {
   "cell_type": "markdown",
   "id": "cee751f1",
   "metadata": {
    "papermill": {
     "duration": 0.013357,
     "end_time": "2022-07-31T10:26:10.717550",
     "exception": false,
     "start_time": "2022-07-31T10:26:10.704193",
     "status": "completed"
    },
    "tags": []
   },
   "source": [
    "**Some values are negative in the target, maybe we can try to turn them positive.**"
   ]
  },
  {
   "cell_type": "code",
   "execution_count": 15,
   "id": "cf57595f",
   "metadata": {
    "execution": {
     "iopub.execute_input": "2022-07-31T10:26:10.746597Z",
     "iopub.status.busy": "2022-07-31T10:26:10.745874Z",
     "iopub.status.idle": "2022-07-31T10:26:10.767858Z",
     "shell.execute_reply": "2022-07-31T10:26:10.766659Z"
    },
    "papermill": {
     "duration": 0.039469,
     "end_time": "2022-07-31T10:26:10.770520",
     "exception": false,
     "start_time": "2022-07-31T10:26:10.731051",
     "status": "completed"
    },
    "tags": []
   },
   "outputs": [],
   "source": [
    "y['BestBenchKg'] =  y.BestBenchKg.map(lambda x: -x if(x<0) else x)\n"
   ]
  },
  {
   "cell_type": "markdown",
   "id": "da2fdb1a",
   "metadata": {
    "papermill": {
     "duration": 0.013027,
     "end_time": "2022-07-31T10:26:10.797096",
     "exception": false,
     "start_time": "2022-07-31T10:26:10.784069",
     "status": "completed"
    },
    "tags": []
   },
   "source": [
    "<a id = \"training\"></a>\n",
    "# Training and Evalutation"
   ]
  },
  {
   "cell_type": "markdown",
   "id": "6e203246",
   "metadata": {
    "papermill": {
     "duration": 0.012928,
     "end_time": "2022-07-31T10:26:10.823426",
     "exception": false,
     "start_time": "2022-07-31T10:26:10.810498",
     "status": "completed"
    },
    "tags": []
   },
   "source": [
    "<a id = \"split\"></a>\n",
    "\n",
    "# Split"
   ]
  },
  {
   "cell_type": "code",
   "execution_count": null,
   "id": "d2d8cce1",
   "metadata": {
    "papermill": {
     "duration": 0.01301,
     "end_time": "2022-07-31T10:26:10.849879",
     "exception": false,
     "start_time": "2022-07-31T10:26:10.836869",
     "status": "completed"
    },
    "tags": []
   },
   "outputs": [],
   "source": []
  },
  {
   "cell_type": "code",
   "execution_count": 16,
   "id": "9e606785",
   "metadata": {
    "execution": {
     "iopub.execute_input": "2022-07-31T10:26:10.878784Z",
     "iopub.status.busy": "2022-07-31T10:26:10.878016Z",
     "iopub.status.idle": "2022-07-31T10:26:10.887059Z",
     "shell.execute_reply": "2022-07-31T10:26:10.886185Z"
    },
    "papermill": {
     "duration": 0.026193,
     "end_time": "2022-07-31T10:26:10.889486",
     "exception": false,
     "start_time": "2022-07-31T10:26:10.863293",
     "status": "completed"
    },
    "tags": []
   },
   "outputs": [
    {
     "data": {
      "text/plain": [
       "playerId\n",
       "19391.0      Raw\n",
       "15978.0    Wraps\n",
       "27209.0      Raw\n",
       "27496.0      Raw\n",
       "20293.0      Raw\n",
       "           ...  \n",
       "3104.0     Wraps\n",
       "10239.0      Raw\n",
       "29044.0      Raw\n",
       "29947.0    Wraps\n",
       "1647.0       Raw\n",
       "Name: Equipment, Length: 30000, dtype: object"
      ]
     },
     "execution_count": 16,
     "metadata": {},
     "output_type": "execute_result"
    }
   ],
   "source": [
    "X['Equipment']"
   ]
  },
  {
   "cell_type": "code",
   "execution_count": 17,
   "id": "5c5a247b",
   "metadata": {
    "execution": {
     "iopub.execute_input": "2022-07-31T10:26:10.918967Z",
     "iopub.status.busy": "2022-07-31T10:26:10.918178Z",
     "iopub.status.idle": "2022-07-31T10:26:11.025609Z",
     "shell.execute_reply": "2022-07-31T10:26:11.024384Z"
    },
    "papermill": {
     "duration": 0.125499,
     "end_time": "2022-07-31T10:26:11.028758",
     "exception": false,
     "start_time": "2022-07-31T10:26:10.903259",
     "status": "completed"
    },
    "tags": []
   },
   "outputs": [],
   "source": [
    "#X contains values that are mistyped floats like 104..5 so we use a regex to replace the two points\n",
    "X['BestSquatKg'] = X.BestSquatKg.astype('str')\n",
    "X['BestSquatKg'] = X.BestSquatKg.replace(to_replace='\\..{1}', value='.', regex=True)\n",
    "X['Sex'] = X.Sex.astype('category')\n",
    "X['Equipment'] = X['Equipment'].astype('category')\n",
    "X['BestSquatKg'] = X.BestSquatKg.astype('float')"
   ]
  },
  {
   "cell_type": "code",
   "execution_count": 18,
   "id": "98b58014",
   "metadata": {
    "execution": {
     "iopub.execute_input": "2022-07-31T10:26:11.058819Z",
     "iopub.status.busy": "2022-07-31T10:26:11.057894Z",
     "iopub.status.idle": "2022-07-31T10:26:11.069466Z",
     "shell.execute_reply": "2022-07-31T10:26:11.068544Z"
    },
    "papermill": {
     "duration": 0.029219,
     "end_time": "2022-07-31T10:26:11.072178",
     "exception": false,
     "start_time": "2022-07-31T10:26:11.042959",
     "status": "completed"
    },
    "tags": []
   },
   "outputs": [],
   "source": [
    "X_train, X_test, y_train, y_test = train_test_split(X, y, test_size=0.3, random_state=42)"
   ]
  },
  {
   "cell_type": "markdown",
   "id": "5bae71dc",
   "metadata": {
    "papermill": {
     "duration": 0.013756,
     "end_time": "2022-07-31T10:26:11.099780",
     "exception": false,
     "start_time": "2022-07-31T10:26:11.086024",
     "status": "completed"
    },
    "tags": []
   },
   "source": [
    "<a id = \"cross_val\"></a>\n",
    "\n",
    "# Cross Validation"
   ]
  },
  {
   "cell_type": "code",
   "execution_count": 19,
   "id": "37e636c9",
   "metadata": {
    "execution": {
     "iopub.execute_input": "2022-07-31T10:26:11.129031Z",
     "iopub.status.busy": "2022-07-31T10:26:11.128595Z",
     "iopub.status.idle": "2022-07-31T10:26:12.035800Z",
     "shell.execute_reply": "2022-07-31T10:26:12.034759Z"
    },
    "papermill": {
     "duration": 0.924733,
     "end_time": "2022-07-31T10:26:12.038316",
     "exception": false,
     "start_time": "2022-07-31T10:26:11.113583",
     "status": "completed"
    },
    "tags": []
   },
   "outputs": [
    {
     "name": "stdout",
     "output_type": "stream",
     "text": [
      "[LightGBM] [Warning] Auto-choosing row-wise multi-threading, the overhead of testing was 0.000160 seconds.\n",
      "You can set `force_row_wise=true` to remove the overhead.\n",
      "And if memory is not enough, you can set `force_col_wise=true`.\n",
      "[LightGBM] [Info] Total Bins 852\n",
      "[LightGBM] [Info] Number of data points in the train set: 7200, number of used features: 6\n",
      "[LightGBM] [Warning] Auto-choosing row-wise multi-threading, the overhead of testing was 0.000166 seconds.\n",
      "You can set `force_row_wise=true` to remove the overhead.\n",
      "And if memory is not enough, you can set `force_col_wise=true`.\n",
      "[LightGBM] [Info] Total Bins 852\n",
      "[LightGBM] [Info] Number of data points in the train set: 7200, number of used features: 6\n",
      "[LightGBM] [Warning] Auto-choosing row-wise multi-threading, the overhead of testing was 0.000190 seconds.\n",
      "You can set `force_row_wise=true` to remove the overhead.\n",
      "And if memory is not enough, you can set `force_col_wise=true`.\n",
      "[LightGBM] [Info] Total Bins 852\n",
      "[LightGBM] [Info] Number of data points in the train set: 7200, number of used features: 6\n",
      "[LightGBM] [Warning] Auto-choosing col-wise multi-threading, the overhead of testing was 0.000747 seconds.\n",
      "You can set `force_col_wise=true` to remove the overhead.\n",
      "[LightGBM] [Info] Total Bins 852\n",
      "[LightGBM] [Info] Number of data points in the train set: 7200, number of used features: 6\n",
      "[LightGBM] [Warning] Auto-choosing row-wise multi-threading, the overhead of testing was 0.000166 seconds.\n",
      "You can set `force_row_wise=true` to remove the overhead.\n",
      "And if memory is not enough, you can set `force_col_wise=true`.\n",
      "[LightGBM] [Info] Total Bins 852\n",
      "[LightGBM] [Info] Number of data points in the train set: 7200, number of used features: 6\n",
      "[LightGBM] [Info] Start training from score 117.478350\n",
      "[LightGBM] [Info] Start training from score 117.080712\n",
      "[LightGBM] [Info] Start training from score 117.230010\n",
      "[LightGBM] [Info] Start training from score 117.327887\n",
      "[LightGBM] [Info] Start training from score 116.850701\n",
      "{'l2-mean': [2236.31291181294, 1883.9727448767412, 1597.2424532385205, 1364.5788569513754, 1177.2932813049983, 1023.9273109283133, 898.0113918859126, 796.7062954590999, 713.3245232080108, 645.2165341614445, 587.8050544707194, 540.5234207030762, 502.1263830422116, 470.09713853304004, 444.0561592047928, 422.3076269436324, 404.3109145619552, 390.2924876876611, 378.1482184826638, 368.1810905122499, 359.60530898738466, 353.20090758677867, 347.6787666031842, 343.129445284149, 339.38324927641804, 335.8779649140712, 333.51026337965004, 331.27085653400314, 329.86349798194425, 328.44905856339653, 326.96859211477164, 325.7731376075424, 324.7817451845361, 323.9635474237366, 323.16785859443695, 322.6792868223083, 322.3855978553377, 322.41638354914863, 322.13108314050663, 321.7198216393554, 321.16548461013775, 321.04372024998344, 320.8042664929496, 320.80697658384116, 320.9393956227202, 320.8236096236794, 320.75210856763425, 320.72409691850055, 320.6621979098901, 320.61533440169353, 320.5095763894407, 320.61870866952705, 320.43863515351296, 320.38909365842585, 320.22104584933584, 320.2596664958268, 320.3777588704503, 320.54321746045645, 320.73690603207325, 320.5896283471589, 320.4537941642055, 320.51804154645174, 320.4694225952777, 320.7297996610663, 320.7742583946222, 320.82985633225786, 320.97839132009386, 321.03598254645794, 321.3178073560921, 321.516799215102, 321.48709286038917, 321.4680041689925, 321.66179992897304, 321.8094221175544, 321.7129695482191, 321.83704283617266, 322.02401047994726, 322.05961608216955, 322.16070640768567, 322.28619465976755, 322.72873601623496, 322.80903593321955, 322.8370175834815, 323.1203457367387, 323.2068245051011, 323.29723736742494, 323.3736251615252, 323.53998079576456, 323.54917647362953, 323.6113174401473, 323.8613884478294, 324.01555376919725, 324.0880132705208, 324.1264649201016, 324.2998919948422, 324.34548684579954, 324.44630301742893, 324.5751684966253, 324.6433531284981, 324.6526387547134], 'l2-stdv': [61.57085899823041, 52.50756545681174, 45.45245990808859, 42.02266545155671, 40.023147435166756, 38.36963369588435, 37.53168633702317, 37.60581284756277, 36.48955702840596, 36.23120680814417, 37.442147388774195, 36.38015553235501, 35.93365949510349, 35.332013317549304, 35.53600843982591, 34.80450089375049, 34.32880882293456, 34.13746467462664, 34.0350735279121, 33.95042040400952, 33.4252175842091, 32.8690641149298, 32.51017383347231, 32.335802997341105, 31.814844214129945, 31.44807516368189, 31.050407831092844, 30.7309478156271, 30.461342100862947, 30.04549559197548, 29.826496815139105, 29.117732128582997, 28.50444781600336, 28.307636511250564, 27.936498232930845, 27.651518164199878, 27.598100013931006, 27.45466456661752, 27.197834485721017, 27.39270065818907, 27.233512969340694, 27.183005285584283, 27.01108680049695, 26.95681330266091, 27.073062064167736, 26.934279357042538, 26.762134494251477, 26.810027961391253, 26.524359598641645, 26.44605426899335, 26.43068206803059, 26.586677861182256, 26.542956320454675, 26.597658747671208, 26.545801612869344, 26.44897975221012, 26.588477962075068, 26.53535065096332, 26.60756015087647, 26.66944455125836, 26.588979887187723, 26.53044021853769, 26.653811716550344, 26.523544040239713, 26.616524734343006, 26.47509409448747, 26.506423893226017, 26.396402070509946, 26.453481169861167, 26.312250005720866, 26.31071750231626, 26.151075562953736, 26.232384035754325, 26.101910382729702, 25.981154949278565, 26.14500399777641, 26.23655131335114, 26.24880697683719, 26.153881208684638, 26.076662919256698, 25.988078317305998, 25.783484692484382, 25.77704048375161, 25.79363267334081, 25.833206182106693, 25.822066390203137, 25.749619064969956, 25.83088042045247, 25.87057100973836, 25.830851228610058, 26.02443668380346, 25.978619219479608, 25.987219999891042, 25.897531685585754, 25.88432256999885, 25.823897251184587, 25.77272362578364, 25.86794965298189, 25.887378556437, 25.93328070561702]}\n"
     ]
    }
   ],
   "source": [
    "from lightgbm import LGBMRegressor\n",
    "from lightgbm import cv\n",
    "from lightgbm import Dataset\n",
    "\n",
    "lgbm = LGBMRegressor(objective='regression', random_state=0)\n",
    "lgbm.fit(X_train, y_train)\n",
    "test_dataset = Dataset(X_test, y_test, feature_name = \"auto\")\n",
    "res = cv( \n",
    "        params = {'objective': 'regression'},\n",
    "        train_set = test_dataset,\n",
    "        num_boost_round=100,\n",
    "        nfold=5,\n",
    "        metrics='mean_squared_error',\n",
    "        stratified=False)\n",
    "\n",
    "print(res)"
   ]
  },
  {
   "cell_type": "markdown",
   "id": "c32d59c0",
   "metadata": {
    "papermill": {
     "duration": 0.013904,
     "end_time": "2022-07-31T10:26:12.066775",
     "exception": false,
     "start_time": "2022-07-31T10:26:12.052871",
     "status": "completed"
    },
    "tags": []
   },
   "source": [
    "<a id = \"r2\"></a>\n",
    "\n",
    "# R2 score\n",
    "\n",
    "**From the MSE we can get the R2 score with the formula R2 = 1-(MSE/Var(y))**"
   ]
  },
  {
   "cell_type": "code",
   "execution_count": 20,
   "id": "248b3965",
   "metadata": {
    "execution": {
     "iopub.execute_input": "2022-07-31T10:26:12.096529Z",
     "iopub.status.busy": "2022-07-31T10:26:12.096127Z",
     "iopub.status.idle": "2022-07-31T10:26:12.101759Z",
     "shell.execute_reply": "2022-07-31T10:26:12.100697Z"
    },
    "papermill": {
     "duration": 0.023529,
     "end_time": "2022-07-31T10:26:12.104147",
     "exception": false,
     "start_time": "2022-07-31T10:26:12.080618",
     "status": "completed"
    },
    "tags": []
   },
   "outputs": [],
   "source": [
    "y_arr = np.array(y_test.values)\n",
    "R2  = 1-(res['l2-mean'][-1]/np.var(y_arr))"
   ]
  },
  {
   "cell_type": "code",
   "execution_count": 21,
   "id": "e860795c",
   "metadata": {
    "execution": {
     "iopub.execute_input": "2022-07-31T10:26:12.133734Z",
     "iopub.status.busy": "2022-07-31T10:26:12.133049Z",
     "iopub.status.idle": "2022-07-31T10:26:12.139064Z",
     "shell.execute_reply": "2022-07-31T10:26:12.138008Z"
    },
    "papermill": {
     "duration": 0.024486,
     "end_time": "2022-07-31T10:26:12.142443",
     "exception": false,
     "start_time": "2022-07-31T10:26:12.117957",
     "status": "completed"
    },
    "tags": []
   },
   "outputs": [
    {
     "name": "stdout",
     "output_type": "stream",
     "text": [
      " R2 score:  0.8784009700502987\n"
     ]
    }
   ],
   "source": [
    "print(\" R2 score:  {}\".format(R2))\n"
   ]
  },
  {
   "cell_type": "markdown",
   "id": "4ae9c6a5",
   "metadata": {
    "papermill": {
     "duration": 0.013513,
     "end_time": "2022-07-31T10:26:12.170618",
     "exception": false,
     "start_time": "2022-07-31T10:26:12.157105",
     "status": "completed"
    },
    "tags": []
   },
   "source": [
    "**We get a very good R2 score with the LGBM Regressor**"
   ]
  },
  {
   "cell_type": "markdown",
   "id": "ab391a39",
   "metadata": {
    "papermill": {
     "duration": 0.013579,
     "end_time": "2022-07-31T10:26:12.198241",
     "exception": false,
     "start_time": "2022-07-31T10:26:12.184662",
     "status": "completed"
    },
    "tags": []
   },
   "source": [
    "<a id = \"Plot\"></a>\n",
    "# Plot"
   ]
  },
  {
   "cell_type": "code",
   "execution_count": 22,
   "id": "76450364",
   "metadata": {
    "execution": {
     "iopub.execute_input": "2022-07-31T10:26:12.227729Z",
     "iopub.status.busy": "2022-07-31T10:26:12.227281Z",
     "iopub.status.idle": "2022-07-31T10:26:12.749850Z",
     "shell.execute_reply": "2022-07-31T10:26:12.748968Z"
    },
    "papermill": {
     "duration": 0.540157,
     "end_time": "2022-07-31T10:26:12.752207",
     "exception": false,
     "start_time": "2022-07-31T10:26:12.212050",
     "status": "completed"
    },
    "tags": []
   },
   "outputs": [
    {
     "data": {
      "image/png": "[encoded data removed]",
      "text/plain": [
       "<Figure size 432x288 with 1 Axes>"
      ]
     },
     "metadata": {
      "needs_background": "light"
     },
     "output_type": "display_data"
    }
   ],
   "source": [
    "y_test_pred = lgbm.predict(X_test)\n",
    "xmin= min(y_test.values.min(), y_test_pred.min() )-1\n",
    "xmax= max(y_test.values.max(), y_test_pred.max() )+1\n",
    "fig = plt.figure(1)\n",
    "plt.scatter(y_test,y_test_pred, marker='+', label='test')\n",
    "plt.plot([xmin,xmax], [xmin,xmax], lw=3, color='k', ls='--') ## droite separatrice d'equation x2=x1\n",
    "\n",
    "plt.xlabel('Groundtruth')\n",
    "plt.ylabel('Prediction') \n",
    "plt.title('Groundtruth/ Prediction Comparaison')\n",
    "plt.legend()\n",
    "plt.savefig('lgbm.png')"
   ]
  },
  {
   "cell_type": "code",
   "execution_count": null,
   "id": "1ece4e3f",
   "metadata": {
    "papermill": {
     "duration": 0.014118,
     "end_time": "2022-07-31T10:26:12.780824",
     "exception": false,
     "start_time": "2022-07-31T10:26:12.766706",
     "status": "completed"
    },
    "tags": []
   },
   "outputs": [],
   "source": []
  }
 ],
 "metadata": {
  "kernelspec": {
   "display_name": "Python 3",
   "language": "python",
   "name": "python3"
  },
  "language_info": {
   "codemirror_mode": {
    "name": "ipython",
    "version": 3
   },
   "file_extension": ".py",
   "mimetype": "text/x-python",
   "name": "python",
   "nbconvert_exporter": "python",
   "pygments_lexer": "ipython3",
   "version": "3.7.12"
  },
  "papermill": {
   "default_parameters": {},
   "duration": 17.676711,
   "end_time": "2022-07-31T10:26:13.618015",
   "environment_variables": {},
   "exception": null,
   "input_path": "__notebook__.ipynb",
   "output_path": "__notebook__.ipynb",
   "parameters": {},
   "start_time": "2022-07-31T10:25:55.941304",
   "version": "2.3.4"
  }
 },
 "nbformat": 4,
 "nbformat_minor": 5
}
